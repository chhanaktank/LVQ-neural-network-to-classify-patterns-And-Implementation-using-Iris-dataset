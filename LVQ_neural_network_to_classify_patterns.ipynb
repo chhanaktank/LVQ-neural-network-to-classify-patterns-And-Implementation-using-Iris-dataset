{
  "nbformat": 4,
  "nbformat_minor": 0,
  "metadata": {
    "kernelspec": {
      "display_name": "Python 3",
      "language": "python",
      "name": "python3"
    },
    "language_info": {
      "codemirror_mode": {
        "name": "ipython",
        "version": 3
      },
      "file_extension": ".py",
      "mimetype": "text/x-python",
      "name": "python",
      "nbconvert_exporter": "python",
      "pygments_lexer": "ipython3",
      "version": "3.8.5"
    },
    "colab": {
      "name": "LVQ neural network to classify patterns",
      "provenance": []
    }
  },
  "cells": [
    {
      "cell_type": "markdown",
      "metadata": {
        "id": "LjChaZjW0n3k"
      },
      "source": [
        "\n",
        "### LVQ neural network to classify patterns\n"
      ]
    },
    {
      "cell_type": "markdown",
      "metadata": {
        "id": "uK99xaLI0n3s"
      },
      "source": [
        "---"
      ]
    },
    {
      "cell_type": "markdown",
      "metadata": {
        "id": "jMaN7LuC0n3u"
      },
      "source": [
        "> ## Learning Vector Quantization ( or LVQ ) is a type of Artificial Neural Network which also inspired by biological models of neural systems. It is based on prototype supervised learning classification algorithm and trained its network through a competitive learning algorithm similar to Self Organizing Map. It can also deal with the multiclass classification problem. LVQ has two layers, one is the Input layer and the other one is the Output layer. The architecture of the Learning Vector Quantization with the number of classes in an input data and n number of input features for any sample is given below:"
      ]
    },
    {
      "cell_type": "markdown",
      "metadata": {
        "id": "xNnIDv3r0n3v"
      },
      "source": [
        "# Algorithm\n",
        "\n",
        "Steps involved are :\n",
        "\n",
        "1]Weight initialization    \n",
        "2]For 1 to N number of epochs  \n",
        "3]Select a training example  \n",
        "4]Compute the winning vector  \n",
        "5]Update the winning vector  \n",
        "6]Repeat steps 3, 4, 5 for all training example.  \n",
        "7]Classify test sample  "
      ]
    },
    {
      "cell_type": "code",
      "metadata": {
        "id": "9gXpvBn60n3v"
      },
      "source": [
        "import numpy as np\n",
        "import math"
      ],
      "execution_count": null,
      "outputs": []
    },
    {
      "cell_type": "code",
      "metadata": {
        "id": "zOepHoOA0n3v"
      },
      "source": [
        "import math\n",
        "  \n",
        "class LVQ : \n",
        "      \n",
        "# Function here computes the winning vector by Euclidean distance\n",
        "    def winner( self, weights, sample ) :\n",
        "          \n",
        "        D0 = 0\n",
        "        D1 = 0\n",
        "          \n",
        "        for i  in range( len( sample ) ) :\n",
        "            D0 = D0 + math.pow( ( sample[i] - weights[0][i] ), 2 )\n",
        "            D1 = D1 + math.pow( ( sample[i] - weights[1][i] ), 2 )\n",
        "        print(\"Euclidean distance from W1= \",D0)\n",
        "        print(\"Euclidean distance from W2= \",D1)      \n",
        "        if D0 > D1 :\n",
        "            return 0\n",
        "        else : \n",
        "            return 1\n",
        "  \n",
        "    # Function here updates the winning vector     \n",
        "    def update( self, weights, sample, J, alpha ) :\n",
        "        for i in range(len(weights)) :\n",
        "            weights[J][i] = weights[J][i] + alpha * ( sample[i] - weights[J][i] ) \n",
        "        print(\"Updated Weights =\", weights,\"\\n\")"
      ],
      "execution_count": null,
      "outputs": []
    },
    {
      "cell_type": "markdown",
      "metadata": {
        "id": "w-ZBA3b00n3w"
      },
      "source": [
        "> ## For input [ 0, 0, 1, 1 ]"
      ]
    },
    {
      "cell_type": "code",
      "metadata": {
        "id": "D-JrYtoI0n3w"
      },
      "source": [
        "\n",
        "#Driver code\n",
        "def main() :\n",
        "  \n",
        "    # Training Samples ( m, n ) with their class vector\n",
        "    X =  [[ 0, 0, 1, 1 ],  [ 1, 0, 0, 0 ], \n",
        "          [ 0, 0, 0, 1 ], [ 0, 1, 1, 0 ],\n",
        "          [ 1, 1, 0, 0 ], [ 1, 1, 1, 0 ],] \n",
        "  \n",
        "    Y = [ 0, 1, 0, 1, 1, 1 ]\n",
        "    m, n = len( X ), len( X[0] )\n",
        "      \n",
        "    # weight initialization ( n, c )\n",
        "    weights = []\n",
        "    weights.append( X.pop( 0 ) )\n",
        "    weights.append( X.pop( 1 ) )\n",
        "  \n",
        "    # Samples used in weight initialization will\n",
        "    # not use in training\n",
        "    m = m - 2\n",
        "      \n",
        "    # training\n",
        "    ob = LVQ()\n",
        "    epochs = 3\n",
        "    alpha = 0.1\n",
        "      \n",
        "    for i in range( epochs ) :\n",
        "        for j in range( m ) :\n",
        "              \n",
        "            # Sample selection\n",
        "            T = X[j]\n",
        "              \n",
        "            # Compute winner\n",
        "            J = ob.winner( weights, T )\n",
        "          \n",
        "            # Update weights\n",
        "            if Y[j]==J:  \n",
        "                ob.update( weights, T, J, alpha )\n",
        "            else:\n",
        "                ob.update( weights, T, J, -1*alpha )\n",
        "              \n",
        "    # classify new input sample\n",
        "    T = [ 0, 0, 1, 1 ]\n",
        "    J = ob.winner( weights, T )\n",
        "    print(\"Input sample T:\",T)\n",
        "    print(\"\\n\\n Sample T belongs to class : \", J )\n",
        "    print( \"Trained weights : \", weights )\n",
        "      \n"
      ],
      "execution_count": null,
      "outputs": []
    },
    {
      "cell_type": "code",
      "metadata": {
        "id": "9qJ7mnHw0n3x",
        "outputId": "678399a5-dd8e-49cf-d09c-a025383a75fb"
      },
      "source": [
        "if __name__ == \"__main__\":\n",
        "    main()"
      ],
      "execution_count": null,
      "outputs": [
        {
          "name": "stdout",
          "output_type": "stream",
          "text": [
            "Euclidean distance from W1=  3.0\n",
            "Euclidean distance from W2=  2.0\n",
            "Updated Weights = [[0.1, 0.0, 1, 1], [0, 0, 0, 1]] \n",
            "\n",
            "Euclidean distance from W1=  2.01\n",
            "Euclidean distance from W2=  3.0\n",
            "Updated Weights = [[0.1, 0.0, 1, 1], [0.0, 0.1, 0, 1]] \n",
            "\n",
            "Euclidean distance from W1=  3.81\n",
            "Euclidean distance from W2=  2.81\n",
            "Updated Weights = [[0.19, 0.1, 1, 1], [0.0, 0.1, 0, 1]] \n",
            "\n",
            "Euclidean distance from W1=  2.4661\n",
            "Euclidean distance from W2=  3.81\n",
            "Updated Weights = [[0.19, 0.1, 1, 1], [0.1, 0.19, 0, 1]] \n",
            "\n",
            "Euclidean distance from W1=  2.6661\n",
            "Euclidean distance from W2=  1.8461\n",
            "Updated Weights = [[0.271, 0.09, 1, 1], [0.1, 0.19, 0, 1]] \n",
            "\n",
            "Euclidean distance from W1=  1.901541\n",
            "Euclidean distance from W2=  2.6661\n",
            "Updated Weights = [[0.271, 0.09, 1, 1], [0.09, 0.271, 0, 1]] \n",
            "\n",
            "Euclidean distance from W1=  3.359541\n",
            "Euclidean distance from W2=  2.359541\n",
            "Updated Weights = [[0.34390000000000004, 0.181, 1, 1], [0.09, 0.271, 0, 1]] \n",
            "\n",
            "Euclidean distance from W1=  2.10122821\n",
            "Euclidean distance from W2=  3.359541\n",
            "Updated Weights = [[0.34390000000000004, 0.181, 1, 1], [0.181, 0.34390000000000004, 0, 1]] \n",
            "\n",
            "Euclidean distance from W1=  2.4632282099999996\n",
            "Euclidean distance from W2=  1.7890282100000001\n",
            "Updated Weights = [[0.40951000000000004, 0.1629, 1, 1], [0.181, 0.34390000000000004, 0, 1]] \n",
            "\n",
            "Euclidean distance from W1=  1.8684348500999999\n",
            "Euclidean distance from W2=  2.4632282099999996\n",
            "Updated Weights = [[0.40951000000000004, 0.1629, 1, 1], [0.1629, 0.40951000000000004, 0, 1]] \n",
            "\n",
            "Euclidean distance from W1=  3.0494148501\n",
            "Euclidean distance from W2=  2.0494148501\n",
            "Updated Weights = [[0.46855900000000006, 0.24661, 1, 1], [0.1629, 0.40951000000000004, 0, 1]] \n",
            "\n",
            "Euclidean distance from W1=  1.850026028581\n",
            "Euclidean distance from W2=  3.0494148501\n",
            "Updated Weights = [[0.46855900000000006, 0.24661, 1, 1], [0.24661, 0.46855900000000006, 0, 1]] \n",
            "\n",
            "Euclidean distance from W1=  0.28036402858100007\n",
            "Euclidean distance from W2=  1.280364028581\n",
            "Input sample T: [0, 0, 1, 1]\n",
            "\n",
            "\n",
            " Sample T belongs to class :  1\n",
            "Trained weights :  [[0.46855900000000006, 0.24661, 1, 1], [0.24661, 0.46855900000000006, 0, 1]]\n"
          ]
        }
      ]
    },
    {
      "cell_type": "markdown",
      "metadata": {
        "id": "NFgcInS20n3x"
      },
      "source": [
        "> ## For input [ 1, 0, 0, 0 ]"
      ]
    },
    {
      "cell_type": "code",
      "metadata": {
        "id": "7JLgFv210n3y"
      },
      "source": [
        "#Driver code\n",
        "def main() :\n",
        "  \n",
        "    # Training Samples ( m, n ) with their class vector\n",
        "    X =  [[ 0, 0, 1, 1 ],  [ 1, 0, 0, 0 ], \n",
        "          [ 0, 0, 0, 1 ], [ 0, 1, 1, 0 ],\n",
        "          [ 1, 1, 0, 0 ], [ 1, 1, 1, 0 ],] \n",
        "  \n",
        "    Y = [ 0, 1, 0, 1, 1, 1 ]\n",
        "    m, n = len( X ), len( X[0] )\n",
        "      \n",
        "    # weight initialization ( n, c )\n",
        "    weights = []\n",
        "    weights.append( X.pop( 0 ) )\n",
        "    weights.append( X.pop( 1 ) )\n",
        "  \n",
        "    # Samples used in weight initialization will\n",
        "    # not use in training\n",
        "    m = m - 2\n",
        "      \n",
        "    # training\n",
        "    ob = LVQ()\n",
        "    epochs = 3\n",
        "    alpha = 0.1\n",
        "      \n",
        "    for i in range( epochs ) :\n",
        "        for j in range( m ) :\n",
        "              \n",
        "            # Sample selection\n",
        "            T = X[j]\n",
        "              \n",
        "            # Compute winner\n",
        "            J = ob.winner( weights, T )\n",
        "          \n",
        "            # Update weights\n",
        "            if Y[j]==J:  \n",
        "                ob.update( weights, T, J, alpha )\n",
        "            else:\n",
        "                ob.update( weights, T, J, -1*alpha )\n",
        "              \n",
        "    # classify new input sample\n",
        "    T = [ 1, 0, 0, 0 ]\n",
        "    J = ob.winner( weights, T )\n",
        "    print(\"Input sample T:\",T)\n",
        "    print(\"\\n\\n Sample T belongs to class : \", J )\n",
        "    print( \"Trained weights : \", weights )\n",
        "      \n"
      ],
      "execution_count": null,
      "outputs": []
    },
    {
      "cell_type": "code",
      "metadata": {
        "id": "_BIEJ9x70n3y",
        "outputId": "544afdd4-a756-4350-9f1e-865440af505a"
      },
      "source": [
        "if __name__ == \"__main__\":\n",
        "    main()"
      ],
      "execution_count": null,
      "outputs": [
        {
          "name": "stdout",
          "output_type": "stream",
          "text": [
            "Euclidean distance from W1=  3.0\n",
            "Euclidean distance from W2=  2.0\n",
            "Updated Weights = [[0.1, 0.0, 1, 1], [0, 0, 0, 1]] \n",
            "\n",
            "Euclidean distance from W1=  2.01\n",
            "Euclidean distance from W2=  3.0\n",
            "Updated Weights = [[0.1, 0.0, 1, 1], [0.0, 0.1, 0, 1]] \n",
            "\n",
            "Euclidean distance from W1=  3.81\n",
            "Euclidean distance from W2=  2.81\n",
            "Updated Weights = [[0.19, 0.1, 1, 1], [0.0, 0.1, 0, 1]] \n",
            "\n",
            "Euclidean distance from W1=  2.4661\n",
            "Euclidean distance from W2=  3.81\n",
            "Updated Weights = [[0.19, 0.1, 1, 1], [0.1, 0.19, 0, 1]] \n",
            "\n",
            "Euclidean distance from W1=  2.6661\n",
            "Euclidean distance from W2=  1.8461\n",
            "Updated Weights = [[0.271, 0.09, 1, 1], [0.1, 0.19, 0, 1]] \n",
            "\n",
            "Euclidean distance from W1=  1.901541\n",
            "Euclidean distance from W2=  2.6661\n",
            "Updated Weights = [[0.271, 0.09, 1, 1], [0.09, 0.271, 0, 1]] \n",
            "\n",
            "Euclidean distance from W1=  3.359541\n",
            "Euclidean distance from W2=  2.359541\n",
            "Updated Weights = [[0.34390000000000004, 0.181, 1, 1], [0.09, 0.271, 0, 1]] \n",
            "\n",
            "Euclidean distance from W1=  2.10122821\n",
            "Euclidean distance from W2=  3.359541\n",
            "Updated Weights = [[0.34390000000000004, 0.181, 1, 1], [0.181, 0.34390000000000004, 0, 1]] \n",
            "\n",
            "Euclidean distance from W1=  2.4632282099999996\n",
            "Euclidean distance from W2=  1.7890282100000001\n",
            "Updated Weights = [[0.40951000000000004, 0.1629, 1, 1], [0.181, 0.34390000000000004, 0, 1]] \n",
            "\n",
            "Euclidean distance from W1=  1.8684348500999999\n",
            "Euclidean distance from W2=  2.4632282099999996\n",
            "Updated Weights = [[0.40951000000000004, 0.1629, 1, 1], [0.1629, 0.40951000000000004, 0, 1]] \n",
            "\n",
            "Euclidean distance from W1=  3.0494148501\n",
            "Euclidean distance from W2=  2.0494148501\n",
            "Updated Weights = [[0.46855900000000006, 0.24661, 1, 1], [0.1629, 0.40951000000000004, 0, 1]] \n",
            "\n",
            "Euclidean distance from W1=  1.850026028581\n",
            "Euclidean distance from W2=  3.0494148501\n",
            "Updated Weights = [[0.46855900000000006, 0.24661, 1, 1], [0.24661, 0.46855900000000006, 0, 1]] \n",
            "\n",
            "Euclidean distance from W1=  2.343246028581\n",
            "Euclidean distance from W2=  1.787144028581\n",
            "Input sample T: [1, 0, 0, 0]\n",
            "\n",
            "\n",
            " Sample T belongs to class :  0\n",
            "Trained weights :  [[0.46855900000000006, 0.24661, 1, 1], [0.24661, 0.46855900000000006, 0, 1]]\n"
          ]
        }
      ]
    },
    {
      "cell_type": "markdown",
      "metadata": {
        "id": "WM8EHwXr0n3y"
      },
      "source": [
        "## Implementation using Iris dataset"
      ]
    },
    {
      "cell_type": "code",
      "metadata": {
        "id": "oAHzErl20n3y"
      },
      "source": [
        "import pandas as pd\n",
        "from sklearn.datasets import load_iris\n",
        "iris=load_iris()\n",
        "df= pd.DataFrame(iris.data, columns=iris.feature_names)"
      ],
      "execution_count": null,
      "outputs": []
    },
    {
      "cell_type": "code",
      "metadata": {
        "id": "xYVWkvzH0n3z",
        "outputId": "8ca9e760-9384-4578-fac0-9d752795c157"
      },
      "source": [
        "df"
      ],
      "execution_count": null,
      "outputs": [
        {
          "data": {
            "text/html": [
              "<div>\n",
              "<style scoped>\n",
              "    .dataframe tbody tr th:only-of-type {\n",
              "        vertical-align: middle;\n",
              "    }\n",
              "\n",
              "    .dataframe tbody tr th {\n",
              "        vertical-align: top;\n",
              "    }\n",
              "\n",
              "    .dataframe thead th {\n",
              "        text-align: right;\n",
              "    }\n",
              "</style>\n",
              "<table border=\"1\" class=\"dataframe\">\n",
              "  <thead>\n",
              "    <tr style=\"text-align: right;\">\n",
              "      <th></th>\n",
              "      <th>sepal length (cm)</th>\n",
              "      <th>sepal width (cm)</th>\n",
              "      <th>petal length (cm)</th>\n",
              "      <th>petal width (cm)</th>\n",
              "    </tr>\n",
              "  </thead>\n",
              "  <tbody>\n",
              "    <tr>\n",
              "      <th>0</th>\n",
              "      <td>5.1</td>\n",
              "      <td>3.5</td>\n",
              "      <td>1.4</td>\n",
              "      <td>0.2</td>\n",
              "    </tr>\n",
              "    <tr>\n",
              "      <th>1</th>\n",
              "      <td>4.9</td>\n",
              "      <td>3.0</td>\n",
              "      <td>1.4</td>\n",
              "      <td>0.2</td>\n",
              "    </tr>\n",
              "    <tr>\n",
              "      <th>2</th>\n",
              "      <td>4.7</td>\n",
              "      <td>3.2</td>\n",
              "      <td>1.3</td>\n",
              "      <td>0.2</td>\n",
              "    </tr>\n",
              "    <tr>\n",
              "      <th>3</th>\n",
              "      <td>4.6</td>\n",
              "      <td>3.1</td>\n",
              "      <td>1.5</td>\n",
              "      <td>0.2</td>\n",
              "    </tr>\n",
              "    <tr>\n",
              "      <th>4</th>\n",
              "      <td>5.0</td>\n",
              "      <td>3.6</td>\n",
              "      <td>1.4</td>\n",
              "      <td>0.2</td>\n",
              "    </tr>\n",
              "    <tr>\n",
              "      <th>...</th>\n",
              "      <td>...</td>\n",
              "      <td>...</td>\n",
              "      <td>...</td>\n",
              "      <td>...</td>\n",
              "    </tr>\n",
              "    <tr>\n",
              "      <th>145</th>\n",
              "      <td>6.7</td>\n",
              "      <td>3.0</td>\n",
              "      <td>5.2</td>\n",
              "      <td>2.3</td>\n",
              "    </tr>\n",
              "    <tr>\n",
              "      <th>146</th>\n",
              "      <td>6.3</td>\n",
              "      <td>2.5</td>\n",
              "      <td>5.0</td>\n",
              "      <td>1.9</td>\n",
              "    </tr>\n",
              "    <tr>\n",
              "      <th>147</th>\n",
              "      <td>6.5</td>\n",
              "      <td>3.0</td>\n",
              "      <td>5.2</td>\n",
              "      <td>2.0</td>\n",
              "    </tr>\n",
              "    <tr>\n",
              "      <th>148</th>\n",
              "      <td>6.2</td>\n",
              "      <td>3.4</td>\n",
              "      <td>5.4</td>\n",
              "      <td>2.3</td>\n",
              "    </tr>\n",
              "    <tr>\n",
              "      <th>149</th>\n",
              "      <td>5.9</td>\n",
              "      <td>3.0</td>\n",
              "      <td>5.1</td>\n",
              "      <td>1.8</td>\n",
              "    </tr>\n",
              "  </tbody>\n",
              "</table>\n",
              "<p>150 rows × 4 columns</p>\n",
              "</div>"
            ],
            "text/plain": [
              "     sepal length (cm)  sepal width (cm)  petal length (cm)  petal width (cm)\n",
              "0                  5.1               3.5                1.4               0.2\n",
              "1                  4.9               3.0                1.4               0.2\n",
              "2                  4.7               3.2                1.3               0.2\n",
              "3                  4.6               3.1                1.5               0.2\n",
              "4                  5.0               3.6                1.4               0.2\n",
              "..                 ...               ...                ...               ...\n",
              "145                6.7               3.0                5.2               2.3\n",
              "146                6.3               2.5                5.0               1.9\n",
              "147                6.5               3.0                5.2               2.0\n",
              "148                6.2               3.4                5.4               2.3\n",
              "149                5.9               3.0                5.1               1.8\n",
              "\n",
              "[150 rows x 4 columns]"
            ]
          },
          "execution_count": 37,
          "metadata": {},
          "output_type": "execute_result"
        }
      ]
    },
    {
      "cell_type": "code",
      "metadata": {
        "id": "8_dxr4pl0n3z"
      },
      "source": [
        "import math\n",
        "  \n",
        "class LVQ : \n",
        "      \n",
        "# Function here computes the winning vector by Euclidean distance\n",
        "    def winner( self, weights, sample ) :\n",
        "          \n",
        "        D0 = 0\n",
        "        D1 = 0\n",
        "        D2 = 0\n",
        "          \n",
        "        for i  in range( len( sample ) ) :\n",
        "            D0 = D0 + math.pow( ( sample[i] - weights[0][i] ), 2 )\n",
        "            D1 = D1 + math.pow( ( sample[i] - weights[1][i] ), 2 )\n",
        "            D2 = D2 + math.pow( ( sample[i] - weights[2][i] ), 2 )\n",
        "        #print(\"Euclidean distance from W1= \",D0)\n",
        "        #print(\"Euclidean distance from W2= \",D1) \n",
        "        #print(\"Euclidean distance from W3= \",D2) \n",
        "        if D0==min(D0,D1,D2) :\n",
        "            return 0\n",
        "        elif D1==min(D0,D1,D2): \n",
        "            return 1\n",
        "        else:\n",
        "            return 2\n",
        "  \n",
        "    # Function here updates the winning vector     \n",
        "    def update( self, weights, sample, J, alpha ) :\n",
        "        for i in range(len(weights)) :\n",
        "            weights[J][i] = weights[J][i] + alpha * ( sample[i] - weights[J][i] ) \n",
        "        #print(\"Updated Weights =\", weights,\"\\n\")"
      ],
      "execution_count": null,
      "outputs": []
    },
    {
      "cell_type": "code",
      "metadata": {
        "id": "Lohlwr1B0n30"
      },
      "source": [
        "#Driver code\n",
        "def main() :\n",
        "  \n",
        "    # Training Samples ( m, n ) with their class vector\n",
        "    X =  df.values.tolist()\n",
        "    Y = iris.target.tolist()\n",
        "    m, n = len( X ), len( X[0] )\n",
        "      \n",
        "    # weight initialization ( n, c )\n",
        "    weights = []\n",
        "    weights.append( X.pop( 0 ) )\n",
        "    weights.append( X.pop( 50) )\n",
        "    weights.append( X.pop( 100 ) )\n",
        "    Y.pop(0)\n",
        "    Y.pop(50)\n",
        "    Y.pop(100)\n",
        "  \n",
        "  \n",
        "  \n",
        "    # Samples used in weight initialization will\n",
        "    # not use in training\n",
        "    m = m - 3\n",
        "      \n",
        "    # training\n",
        "    ob = LVQ()\n",
        "    epochs = 1\n",
        "    alpha = 0.1\n",
        "      \n",
        "    for i in range( epochs ) :\n",
        "        for j in range( m ) :\n",
        "              \n",
        "            # Sample selection\n",
        "            T = X[j]\n",
        "              \n",
        "            # Compute winner\n",
        "            J = ob.winner( weights, T )\n",
        "          \n",
        "            # Update weights\n",
        "            if Y[j]==J:  \n",
        "                ob.update( weights, T, J, alpha )\n",
        "            else:\n",
        "                ob.update( weights, T, J, -1*alpha )\n",
        "              \n",
        "    # classify new input sample\n",
        "    T = [ 5.0, 3.6, 1.4, 0.2 ]\n",
        "    J = ob.winner( weights, T )\n",
        "    print(\"Input sample T:\",T)\n",
        "    print(\"\\n\\n Sample T belongs to class : \", J )\n",
        "    print( \"\\n\\n Trained weights : \", weights )\n",
        "      \n"
      ],
      "execution_count": null,
      "outputs": []
    },
    {
      "cell_type": "code",
      "metadata": {
        "id": "PrF6H2hH0n30",
        "outputId": "d733d289-2fbf-4949-ae54-3f74fd122558"
      },
      "source": [
        "if __name__ == \"__main__\":\n",
        "    main()"
      ],
      "execution_count": null,
      "outputs": [
        {
          "name": "stdout",
          "output_type": "stream",
          "text": [
            "Input sample T: [5.0, 3.6, 1.4, 0.2]\n",
            "\n",
            "\n",
            " Sample T belongs to class :  0\n",
            "\n",
            "\n",
            " Trained weights :  [[4.9585675418557384, 3.392053902357303, 1.4653112391439294, 0.2], [5.809780136099605, 2.890922545074737, 3.4914471476231315, 1.5], [6.509068294099899, 3.033723919897978, 5.409365776011675, 2.1]]\n"
          ]
        }
      ]
    }
  ]
}